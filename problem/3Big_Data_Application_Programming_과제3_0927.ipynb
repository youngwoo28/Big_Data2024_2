{
  "nbformat": 4,
  "nbformat_minor": 0,
  "metadata": {
    "colab": {
      "provenance": [],
      "authorship_tag": "ABX9TyPdPIhTGE9nGZM7D5CYTRbQ",
      "include_colab_link": true
    },
    "kernelspec": {
      "name": "python3",
      "display_name": "Python 3"
    },
    "language_info": {
      "name": "python"
    }
  },
  "cells": [
    {
      "cell_type": "markdown",
      "metadata": {
        "id": "view-in-github",
        "colab_type": "text"
      },
      "source": [
        "<a href=\"https://colab.research.google.com/github/youngwoo28/Big_Data2024_2/blob/master/problem/3Big_Data_Application_Programming_%EA%B3%BC%EC%A0%9C3_0927.ipynb\" target=\"_parent\"><img src=\"https://colab.research.google.com/assets/colab-badge.svg\" alt=\"Open In Colab\"/></a>"
      ]
    },
    {
      "cell_type": "code",
      "execution_count": null,
      "metadata": {
        "colab": {
          "base_uri": "https://localhost:8080/"
        },
        "id": "1XRGXANK4IBx",
        "outputId": "f6e17320-7a08-491d-c0d2-da02e56801e0"
      },
      "outputs": [
        {
          "output_type": "stream",
          "name": "stdout",
          "text": [
            "[입장권 계산]\n"
          ]
        }
      ],
      "source": [
        "# 놀이공원 입장권 계산 함수\n",
        "def calculate_ticket_price(age, time, national, card):\n",
        "\n",
        "    base_price = 10000\n",
        "    special_discount_price = 4000\n",
        "    general_discount_price = 8000\n",
        "\n",
        "\n",
        "    if age < 3:\n",
        "        return 0\n",
        "\n",
        "    if age < 13 or time >= 17:\n",
        "        return special_discount_price\n",
        "\n",
        "    if national or card:\n",
        "        return general_discount_price\n",
        "\n",
        "    return base_price\n",
        "\n",
        "print(\"[입장권 계산]\")\n",
        "age = int(input(\"나이를 입력하세요. (숫자): \"))\n",
        "time = int(input(\"입장 시간을 입력하세요 (숫자입력): \"))\n",
        "national = input(\"국가유공자 여부를 입력하세요 (y/n): \").lower() == 'y'\n",
        "card = input(\"복지카드 소지 여부를 입력하세요 (y/n): \").lower() == 'y'\n",
        "\n",
        "ticket_price = calculate_ticket_price(age, time, national, card)\n",
        "\n",
        "print(f\"입장료:{ticket_price}\")\n"
      ]
    }
  ]
}