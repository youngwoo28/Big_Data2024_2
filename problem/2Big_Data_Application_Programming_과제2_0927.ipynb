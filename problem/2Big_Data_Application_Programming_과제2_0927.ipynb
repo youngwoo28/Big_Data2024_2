{
  "nbformat": 4,
  "nbformat_minor": 0,
  "metadata": {
    "colab": {
      "provenance": [],
      "authorship_tag": "ABX9TyO+crqDpWU/S9O+Cyd7GHz3",
      "include_colab_link": true
    },
    "kernelspec": {
      "name": "python3",
      "display_name": "Python 3"
    },
    "language_info": {
      "name": "python"
    }
  },
  "cells": [
    {
      "cell_type": "markdown",
      "metadata": {
        "id": "view-in-github",
        "colab_type": "text"
      },
      "source": [
        "<a href=\"https://colab.research.google.com/github/youngwoo28/Big_Data2024_2/blob/master/problem/2Big_Data_Application_Programming_%EA%B3%BC%EC%A0%9C2_0927.ipynb\" target=\"_parent\"><img src=\"https://colab.research.google.com/assets/colab-badge.svg\" alt=\"Open In Colab\"/></a>"
      ]
    },
    {
      "cell_type": "code",
      "execution_count": 3,
      "metadata": {
        "colab": {
          "base_uri": "https://localhost:8080/"
        },
        "id": "MKdL4tQ31QE8",
        "outputId": "bcba25cc-6973-4b8b-b050-d49905a7248c"
      },
      "outputs": [
        {
          "output_type": "stream",
          "name": "stdout",
          "text": [
            "결제 금액을 입력하세요: 15613\n",
            "결제 금액 15613원에 대한 캐시백은 300원 입니다.\n"
          ]
        }
      ],
      "source": [
        "# 캐시백을 계산하는 함수\n",
        "def cashback(amount):\n",
        "\n",
        "    cashback = amount * 0.10\n",
        "\n",
        "    cashback = int(cashback // 100) * 100\n",
        "\n",
        "    if cashback > 300:\n",
        "        cashback = 300\n",
        "\n",
        "    return cashback\n",
        "\n",
        "payment_amount = float(input(\"결제 금액을 입력하세요: \"))\n",
        "\n",
        "cashback2 = cashback(payment_amount)\n",
        "\n",
        "print(f\"결제 금액 {payment_amount:.0f}원에 대한 캐시백은 {cashback2}원 입니다.\")\n"
      ]
    }
  ]
}