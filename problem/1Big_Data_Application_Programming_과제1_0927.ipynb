{
  "nbformat": 4,
  "nbformat_minor": 0,
  "metadata": {
    "colab": {
      "provenance": [],
      "authorship_tag": "ABX9TyNmFpU0Y/1h81ZGfw13Ckmh",
      "include_colab_link": true
    },
    "kernelspec": {
      "name": "python3",
      "display_name": "Python 3"
    },
    "language_info": {
      "name": "python"
    }
  },
  "cells": [
    {
      "cell_type": "markdown",
      "metadata": {
        "id": "view-in-github",
        "colab_type": "text"
      },
      "source": [
        "<a href=\"https://colab.research.google.com/github/youngwoo28/Big_Data2024_2/blob/master/problem/1Big_Data_Application_Programming_%EA%B3%BC%EC%A0%9C1_0927.ipynb\" target=\"_parent\"><img src=\"https://colab.research.google.com/assets/colab-badge.svg\" alt=\"Open In Colab\"/></a>"
      ]
    },
    {
      "cell_type": "code",
      "execution_count": 6,
      "metadata": {
        "id": "TuXdh_VzqzJ0",
        "colab": {
          "base_uri": "https://localhost:8080/"
        },
        "outputId": "4fd2f80f-67b8-49c6-bb43-3dab3e07c6d0"
      },
      "outputs": [
        {
          "output_type": "stream",
          "name": "stdout",
          "text": [
            "[구구단 출력]\n",
            "01 x 01 = 01  01 x 02 = 02  01 x 03 = 03  01 x 04 = 04  01 x 05 = 05  01 x 06 = 06  01 x 07 = 07  01 x 08 = 08  01 x 09 = 09  \n",
            "02 x 01 = 02  02 x 02 = 04  02 x 03 = 06  02 x 04 = 08  02 x 05 = 10  02 x 06 = 12  02 x 07 = 14  02 x 08 = 16  02 x 09 = 18  \n",
            "03 x 01 = 03  03 x 02 = 06  03 x 03 = 09  03 x 04 = 12  03 x 05 = 15  03 x 06 = 18  03 x 07 = 21  03 x 08 = 24  03 x 09 = 27  \n",
            "04 x 01 = 04  04 x 02 = 08  04 x 03 = 12  04 x 04 = 16  04 x 05 = 20  04 x 06 = 24  04 x 07 = 28  04 x 08 = 32  04 x 09 = 36  \n",
            "05 x 01 = 05  05 x 02 = 10  05 x 03 = 15  05 x 04 = 20  05 x 05 = 25  05 x 06 = 30  05 x 07 = 35  05 x 08 = 40  05 x 09 = 45  \n",
            "06 x 01 = 06  06 x 02 = 12  06 x 03 = 18  06 x 04 = 24  06 x 05 = 30  06 x 06 = 36  06 x 07 = 42  06 x 08 = 48  06 x 09 = 54  \n",
            "07 x 01 = 07  07 x 02 = 14  07 x 03 = 21  07 x 04 = 28  07 x 05 = 35  07 x 06 = 42  07 x 07 = 49  07 x 08 = 56  07 x 09 = 63  \n",
            "08 x 01 = 08  08 x 02 = 16  08 x 03 = 24  08 x 04 = 32  08 x 05 = 40  08 x 06 = 48  08 x 07 = 56  08 x 08 = 64  08 x 09 = 72  \n",
            "09 x 01 = 09  09 x 02 = 18  09 x 03 = 27  09 x 04 = 36  09 x 05 = 45  09 x 06 = 54  09 x 07 = 63  09 x 08 = 72  09 x 09 = 81  \n"
          ]
        }
      ],
      "source": [
        "# 구구단 출력\n",
        "def gugudan():\n",
        "    for i in range(1, 10):\n",
        "        for j in range(1, 10):\n",
        "\n",
        "            print(\"{:02} x {:02} = {:02}\".format(i, j, i * j), end='  ')\n",
        "        print()\n",
        "\n",
        "print(\"[구구단 출력]\")\n",
        "gugudan()\n"
      ]
    }
  ]
}