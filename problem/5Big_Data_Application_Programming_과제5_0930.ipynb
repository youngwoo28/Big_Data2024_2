{
  "nbformat": 4,
  "nbformat_minor": 0,
  "metadata": {
    "colab": {
      "provenance": [],
      "authorship_tag": "ABX9TyMFaC9FNVKMOjdpENu26A6c",
      "include_colab_link": true
    },
    "kernelspec": {
      "name": "python3",
      "display_name": "Python 3"
    },
    "language_info": {
      "name": "python"
    }
  },
  "cells": [
    {
      "cell_type": "markdown",
      "metadata": {
        "id": "view-in-github",
        "colab_type": "text"
      },
      "source": [
        "<a href=\"https://colab.research.google.com/github/youngwoo28/Big_Data2024_2/blob/master/problem/5Big_Data_Application_Programming_%EA%B3%BC%EC%A0%9C5_0930.ipynb\" target=\"_parent\"><img src=\"https://colab.research.google.com/assets/colab-badge.svg\" alt=\"Open In Colab\"/></a>"
      ]
    },
    {
      "cell_type": "code",
      "source": [
        "# 달력 만들기\n",
        "from datetime import datetime\n",
        "\n",
        "# 각 월의 마지막 날 수를 정의\n",
        "def get_last_day_of_month(year, month):\n",
        "    if month in (1, 3, 5, 7, 8, 10, 12):\n",
        "        return 31\n",
        "    elif month in (4, 6, 9, 11):\n",
        "        return 30\n",
        "    elif month == 2:  # 2월은 윤년 고려\n",
        "        if (year % 4 == 0 and year % 100 != 0) or (year % 400 == 0):\n",
        "            return 29\n",
        "        else:\n",
        "            return 28\n",
        "\n",
        "# 달력을 출력하는 함수\n",
        "def print_month_calendar(year, month):\n",
        "    # 해당 월의 첫 번째 날짜\n",
        "    first_day = datetime(year, month, 1)\n",
        "\n",
        "    # 이번 달의 마지막 날 구하기\n",
        "    last_day = get_last_day_of_month(year, month)\n",
        "\n",
        "    # 년도와 월 출력\n",
        "    print(f\"\\n[{year}년 {month}월]\")\n",
        "    print(\"일   월   화  수   목  금  토\")  # 요일 출력\n",
        "\n",
        "    # 첫 번째 날짜의 요일 (0: 월요일, 6: 일요일 → 6이 되어야 일요일 시작)\n",
        "    start_weekday = first_day.weekday()  # 0: 월요일, 6: 일요일\n",
        "    start_weekday = (start_weekday + 1) % 7  # 월요일을 1, 일요일을 0으로 조정\n",
        "\n",
        "    # 요일을 맞추기 위해서 공백을 추가\n",
        "    print(\"    \" * start_weekday, end=\"\")\n",
        "\n",
        "    # 날짜 출력\n",
        "    for day in range(1, last_day + 1):\n",
        "        print(f\"{day:02}\", end=\"  \")  # 날짜를 두 자리로 출력\n",
        "        # 요일을 맞춰서 줄바꿈 (토요일은 요일 인덱스 6이므로)\n",
        "        if (start_weekday + day) % 7 == 0:\n",
        "            print()  # 토요일마다 줄바꿈\n",
        "    print(\"\\n\")\n",
        "\n",
        "print(\"[달력 출력 프로그램]\")\n",
        "\n",
        "# 사용자 입력 받기\n",
        "year = int(input(\"달력의 년도를 입력해 주세요.(yyyy): \"))\n",
        "month = int(input(\"달력의 월을 입력해 주세요.(mm): \"))\n",
        "\n",
        "# 입력한 달을 기준으로 이전 달과 다음 달 계산\n",
        "current_date = datetime(year, month, 1)\n",
        "\n",
        "# 이전 달 계산\n",
        "if month == 1:\n",
        "    previous_month = 12\n",
        "    previous_year = year - 1\n",
        "else:\n",
        "    previous_month = month - 1\n",
        "    previous_year = year\n",
        "\n",
        "# 다음 달 계산\n",
        "if month == 12:\n",
        "    next_month = 1\n",
        "    next_year = year + 1\n",
        "else:\n",
        "    next_month = month + 1\n",
        "    next_year = year\n",
        "\n",
        "# 달력 출력\n",
        "print_month_calendar(previous_year, previous_month)  # 이전 달 출력\n",
        "print_month_calendar(year, month)  # 입력한 달 출력\n",
        "print_month_calendar(next_year, next_month)  # 다음 달 출력\n"
      ],
      "metadata": {
        "colab": {
          "base_uri": "https://localhost:8080/"
        },
        "id": "Fhu3qJucwXwz",
        "outputId": "246cf38a-a26e-4253-8b13-61da11794b04"
      },
      "execution_count": 31,
      "outputs": [
        {
          "output_type": "stream",
          "name": "stdout",
          "text": [
            "[달력 출력 프로그램]\n",
            "달력의 년도를 입력해 주세요.(yyyy): 2024\n",
            "달력의 월을 입력해 주세요.(mm): 09\n",
            "\n",
            "[2024년 8월]\n",
            "일   월   화  수   목  금  토\n",
            "                01  02  03  \n",
            "04  05  06  07  08  09  10  \n",
            "11  12  13  14  15  16  17  \n",
            "18  19  20  21  22  23  24  \n",
            "25  26  27  28  29  30  31  \n",
            "\n",
            "\n",
            "\n",
            "[2024년 9월]\n",
            "일   월   화  수   목  금  토\n",
            "01  02  03  04  05  06  07  \n",
            "08  09  10  11  12  13  14  \n",
            "15  16  17  18  19  20  21  \n",
            "22  23  24  25  26  27  28  \n",
            "29  30  \n",
            "\n",
            "\n",
            "[2024년 10월]\n",
            "일   월   화  수   목  금  토\n",
            "        01  02  03  04  05  \n",
            "06  07  08  09  10  11  12  \n",
            "13  14  15  16  17  18  19  \n",
            "20  21  22  23  24  25  26  \n",
            "27  28  29  30  31  \n",
            "\n"
          ]
        }
      ]
    }
  ]
}