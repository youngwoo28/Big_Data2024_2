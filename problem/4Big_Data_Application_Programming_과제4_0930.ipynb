{
  "nbformat": 4,
  "nbformat_minor": 0,
  "metadata": {
    "colab": {
      "provenance": [],
      "authorship_tag": "ABX9TyNcAU1DPjBFWRvo6MYpi1xP",
      "include_colab_link": true
    },
    "kernelspec": {
      "name": "python3",
      "display_name": "Python 3"
    },
    "language_info": {
      "name": "python"
    }
  },
  "cells": [
    {
      "cell_type": "markdown",
      "metadata": {
        "id": "view-in-github",
        "colab_type": "text"
      },
      "source": [
        "<a href=\"https://colab.research.google.com/github/youngwoo28/Big_Data2024_2/blob/master/problem/4Big_Data_Application_Programming_%EA%B3%BC%EC%A0%9C4.ipynb\" target=\"_parent\"><img src=\"https://colab.research.google.com/assets/colab-badge.svg\" alt=\"Open In Colab\"/></a>"
      ]
    },
    {
      "cell_type": "code",
      "source": [
        "import random\n",
        "\n",
        "def generate_resident_number(year, month, day, gender):\n",
        "\n",
        "    year_str = str(year)[2:]\n",
        "    month_str = f\"{month:02d}\"\n",
        "    day_str = f\"{day:02d}\"\n",
        "\n",
        "    if year < 2000:\n",
        "        gender_code = '1' if gender == 'M' else '2'\n",
        "    else:\n",
        "        gender_code = '3' if gender == 'M' else '4'\n",
        "\n",
        "\n",
        "    random_number = random.randint(1, 999999)\n",
        "\n",
        "\n",
        "    resident_number = f\"{year_str}{month_str}{day_str}-{gender_code}{random_number}\"\n",
        "\n",
        "    return resident_number\n",
        "\n",
        "print(\"[주민등록번호 계산]\")\n",
        "year = int(input(\"출생 연도를 입력하세요 (yyyy): \"))\n",
        "month = int(input(\"출생 월을 입력하세요 (mm): \"))\n",
        "day = int(input(\"출생 일을 입력하세요 (dd): \"))\n",
        "gender = input(\"성별을 입력하세요 (m/f): \")\n",
        "\n",
        "\n",
        "resident_number = generate_resident_number(year, month, day, gender)\n",
        "\n",
        "print(resident_number)\n"
      ],
      "metadata": {
        "colab": {
          "base_uri": "https://localhost:8080/"
        },
        "id": "AaNa77DDsw0O",
        "outputId": "4a7807ce-8de8-4807-aaf7-7ffa691791c8"
      },
      "execution_count": 3,
      "outputs": [
        {
          "output_type": "stream",
          "name": "stdout",
          "text": [
            "[주민등록번호 계산]\n",
            "출생 연도를 입력하세요 (yyyy): 2024\n",
            "출생 월을 입력하세요 (mm): 01\n",
            "출생 일을 입력하세요 (dd): 22\n",
            "성별을 입력하세요 (m/f): f\n",
            "240122-4923577\n"
          ]
        }
      ]
    }
  ]
}
