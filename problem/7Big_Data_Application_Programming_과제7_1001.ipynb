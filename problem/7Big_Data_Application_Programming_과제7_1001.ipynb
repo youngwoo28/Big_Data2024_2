{
  "nbformat": 4,
  "nbformat_minor": 0,
  "metadata": {
    "colab": {
      "provenance": [],
      "authorship_tag": "ABX9TyPvcTsnB4BJ70MuefZXMJEU",
      "include_colab_link": true
    },
    "kernelspec": {
      "name": "python3",
      "display_name": "Python 3"
    },
    "language_info": {
      "name": "python"
    }
  },
  "cells": [
    {
      "cell_type": "markdown",
      "metadata": {
        "id": "view-in-github",
        "colab_type": "text"
      },
      "source": [
        "<a href=\"https://colab.research.google.com/github/youngwoo28/Big_Data2024_2/blob/master/problem/7Big_Data_Application_Programming_%EA%B3%BC%EC%A0%9C7_1001.ipynb\" target=\"_parent\"><img src=\"https://colab.research.google.com/assets/colab-badge.svg\" alt=\"Open In Colab\"/></a>"
      ]
    },
    {
      "cell_type": "code",
      "execution_count": 14,
      "metadata": {
        "colab": {
          "base_uri": "https://localhost:8080/"
        },
        "id": "XqlynDu__fYK",
        "outputId": "61be4ad1-15ec-4596-d2ff-e77124cced3c"
      },
      "outputs": [
        {
          "output_type": "stream",
          "name": "stdout",
          "text": [
            "[로또 당첨 프로그램]\n",
            "\n",
            "\n",
            "로또 개수를 입력해 주세요.(숫자 1 ~ 10): 2\n",
            "A      01, 02, 11, 30, 32, 42\n",
            "B      02, 16, 17, 20, 24, 36\n",
            "\n",
            "[로또 발표]\n",
            "       21,23,28,43,44,45\n",
            "\n",
            "[내 로또 결과]\n",
            "A      01, 02, 11, 30, 32, 42      => 0개 일치\n",
            "B      02, 16, 17, 20, 24, 36      => 0개 일치\n"
          ]
        }
      ],
      "source": [
        "import random\n",
        "\n",
        "def generate_lotto_numbers():\n",
        "    \"\"\"로또 번호 생성 함수 (1~45 사이의 번호 중 6개 선택, 중복 배제 및 정렬)\"\"\"\n",
        "    numbers = random.sample(range(1, 46), 6)  # 1~45 사이에서 6개의 번호 선택\n",
        "    numbers.sort()  # 번호 정렬\n",
        "    return numbers\n",
        "\n",
        "def buy_lotto_tickets(count):\n",
        "    \"\"\"로또 구매 함수: count만큼의 로또 번호를 생성\"\"\"\n",
        "    tickets = {}\n",
        "    for i in range(count):\n",
        "        ticket_name = chr(65 + i)  # 'A', 'B', 'C' ... 형식으로 로또 이름 부여\n",
        "        ticket = generate_lotto_numbers()\n",
        "        tickets[ticket_name] = ticket\n",
        "    return tickets\n",
        "\n",
        "def display_tickets(tickets):\n",
        "    for ticket_name, ticket_numbers in tickets.items():\n",
        "        print(f\"{ticket_name}      {', '.join(map(lambda x: f'{x:02}', ticket_numbers))}\")\n",
        "\n",
        "def check_lotto_results(tickets, winning_numbers):\n",
        "    \"\"\"구매한 로또와 당첨 번호 비교 및 결과 출력\"\"\"\n",
        "    print(\"\\n[내 로또 결과]\")\n",
        "    for ticket_name, ticket_numbers in tickets.items():\n",
        "        match_count = len(set(ticket_numbers) & set(winning_numbers))  # 교집합을 이용하여 일치하는 번호 수 계산\n",
        "        match_message = f\"{ticket_name}      {', '.join(map(lambda x: f'{x:02}', ticket_numbers))}      => {match_count}개 일치\"\n",
        "        print(match_message)\n",
        "\n",
        "def main():\n",
        "    print(\"[로또 당첨 프로그램]\")\n",
        "    print()\n",
        "    print()\n",
        "    # 1. 로또 개수 입력\n",
        "    count = int(input(\"로또 개수를 입력해 주세요.(숫자 1 ~ 10): \"))\n",
        "    while count < 1 or count > 10:\n",
        "        print(\"로또 개수는 1 ~ 10 사이의 숫자여야 합니다.\")\n",
        "        count = int(input(\"로또 개수를 다시 입력해 주세요.(숫자 1 ~ 10): \"))\n",
        "\n",
        "    # 2. 로또 구매\n",
        "    tickets = buy_lotto_tickets(count)\n",
        "\n",
        "    # 3. 구매한 로또 번호 출력\n",
        "    display_tickets(tickets)\n",
        "\n",
        "    # 4. 로또 당첨 번호 생성\n",
        "    winning_numbers = generate_lotto_numbers()\n",
        "\n",
        "    # 5. 결과 출력\n",
        "    print(\"\\n[로또 발표]\")\n",
        "    print(\"       \" + ','.join(map(lambda x: f'{x:02}',winning_numbers)))\n",
        "\n",
        "    # 6. 당첨 여부 확인\n",
        "    check_lotto_results(tickets, winning_numbers)\n",
        "\n",
        "if __name__ == \"__main__\":\n",
        "    main()\n"
      ]
    }
  ]
}